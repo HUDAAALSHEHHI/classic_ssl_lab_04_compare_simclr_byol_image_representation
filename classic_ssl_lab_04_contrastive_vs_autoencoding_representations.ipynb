{
  "nbformat": 4,
  "nbformat_minor": 0,
  "metadata": {
    "colab": {
      "provenance": [],
      "gpuType": "A100"
    },
    "kernelspec": {
      "name": "python3",
      "display_name": "Python 3"
    },
    "language_info": {
      "name": "python"
    },
    "accelerator": "GPU"
  },
  "cells": [
    {
      "cell_type": "code",
      "execution_count": 1,
      "metadata": {
        "id": "G0Wf5BAAbLb_"
      },
      "outputs": [],
      "source": [
        "import tensorflow as tf\n",
        "from tensorflow.keras import layers, models\n",
        "import numpy as np\n",
        "import matplotlib.pyplot as plt\n",
        "from sklearn.linear_model import LogisticRegression\n",
        "from sklearn.metrics import accuracy_score\n"
      ]
    },
    {
      "cell_type": "code",
      "source": [
        "(x_train, y_train), (x_test, y_test) = tf.keras.datasets.cifar10.load_data()\n",
        "x_train = x_train[:8000].astype(\"float32\")/255.0\n",
        "y_train = y_train[:8000].ravel()\n",
        "x_test  = x_test[:2000].astype(\"float32\")/255.0\n",
        "y_test  = y_test[:2000].ravel()\n"
      ],
      "metadata": {
        "colab": {
          "base_uri": "https://localhost:8080/"
        },
        "id": "KdJ3EcCSbtHL",
        "outputId": "343d8b02-5eef-4aae-d323-c18a775fbf69"
      },
      "execution_count": 2,
      "outputs": [
        {
          "output_type": "stream",
          "name": "stdout",
          "text": [
            "Downloading data from https://www.cs.toronto.edu/~kriz/cifar-10-python.tar.gz\n",
            "\u001b[1m170498071/170498071\u001b[0m \u001b[32m━━━━━━━━━━━━━━━━━━━━\u001b[0m\u001b[37m\u001b[0m \u001b[1m15s\u001b[0m 0us/step\n"
          ]
        }
      ]
    },
    {
      "cell_type": "code",
      "source": [
        "base = tf.keras.applications.MobileNetV2(input_shape=(32,32,3), include_top=False, weights=None, alpha=0.5)\n",
        "encoder_contrastive = models.Model(base.input, layers.GlobalAveragePooling2D()(base.output), name=\"encoder_contrastive\")\n"
      ],
      "metadata": {
        "id": "ttdr6bONcEkQ"
      },
      "execution_count": 3,
      "outputs": []
    },
    {
      "cell_type": "code",
      "source": [
        "augment = tf.keras.Sequential([\n",
        "    layers.RandomFlip(\"horizontal\"),\n",
        "    layers.RandomRotation(0.1),\n",
        "    layers.RandomZoom(0.1)\n",
        "])\n",
        "\n",
        "projection_head = models.Sequential([\n",
        "    layers.Dense(128, activation=\"relu\"),\n",
        "    layers.Dense(64)\n",
        "], name=\"projection_head\")\n",
        "\n",
        "def nt_xent(z_i, z_j, temperature=0.5):\n",
        "    z_i = tf.math.l2_normalize(z_i, axis=1)\n",
        "    z_j = tf.math.l2_normalize(z_j, axis=1)\n",
        "    logits = tf.matmul(z_i, z_j, transpose_b=True) / temperature\n",
        "    labels = tf.range(tf.shape(logits)[0])\n",
        "    return tf.reduce_mean(tf.keras.losses.sparse_categorical_crossentropy(labels, logits, from_logits=True))\n"
      ],
      "metadata": {
        "id": "10unJpjfcVN2"
      },
      "execution_count": 4,
      "outputs": []
    },
    {
      "cell_type": "code",
      "source": [
        "BATCH, EPOCHS, STEPS = 256, 3, 100\n",
        "ds = tf.data.Dataset.from_tensor_slices(x_train).shuffle(20000).batch(BATCH, drop_remainder=True).prefetch(tf.data.AUTOTUNE)\n",
        "opt = tf.keras.optimizers.Adam(1e-3)\n",
        "\n",
        "@tf.function\n",
        "def train_step(x):\n",
        "    with tf.GradientTape() as tape:\n",
        "        x_i, x_j = augment(x, training=True), augment(x, training=True)\n",
        "        h_i, h_j = encoder_contrastive(x_i, training=True), encoder_contrastive(x_j, training=True)\n",
        "        z_i, z_j = projection_head(h_i, training=True), projection_head(h_j, training=True)\n",
        "        loss = nt_xent(z_i, z_j, 0.5)\n",
        "    vars_ = encoder_contrastive.trainable_variables + projection_head.trainable_variables\n",
        "    grads = tape.gradient(loss, vars_)\n",
        "    opt.apply_gradients(zip(grads, vars_))\n",
        "    return loss\n",
        "\n",
        "for e in range(EPOCHS):\n",
        "    m = tf.keras.metrics.Mean()\n",
        "    for step, xb in enumerate(ds):\n",
        "        if step >= STEPS: break\n",
        "        m.update_state(train_step(xb))\n",
        "    print(f\"Contrastive Epoch {e+1}: loss={m.result().numpy():.4f}\")\n"
      ],
      "metadata": {
        "colab": {
          "base_uri": "https://localhost:8080/"
        },
        "id": "A3f54mv7cZ7z",
        "outputId": "55b1e96d-f9a3-429d-f628-587dacd93dff"
      },
      "execution_count": 5,
      "outputs": [
        {
          "output_type": "stream",
          "name": "stdout",
          "text": [
            "Contrastive Epoch 1: loss=5.3556\n",
            "Contrastive Epoch 2: loss=4.8969\n",
            "Contrastive Epoch 3: loss=4.4589\n"
          ]
        }
      ]
    },
    {
      "cell_type": "code",
      "source": [
        "rep_contrastive_train = encoder_contrastive.predict(x_train, verbose=0)\n",
        "rep_contrastive_test  = encoder_contrastive.predict(x_test,  verbose=0)\n",
        "print(rep_contrastive_train.shape, rep_contrastive_test.shape)\n"
      ],
      "metadata": {
        "colab": {
          "base_uri": "https://localhost:8080/"
        },
        "id": "cebmdZZQceRo",
        "outputId": "83d4fc98-17c8-4d6e-bcac-4952256f55ac"
      },
      "execution_count": 6,
      "outputs": [
        {
          "output_type": "stream",
          "name": "stdout",
          "text": [
            "(8000, 1280) (2000, 1280)\n"
          ]
        }
      ]
    },
    {
      "cell_type": "code",
      "source": [
        "latent_dim = 64\n",
        "encoder_ae = models.Sequential([\n",
        "    layers.Input(shape=(32,32,3)),\n",
        "    layers.Conv2D(32, 3, strides=2, padding=\"same\", activation=\"relu\"),\n",
        "    layers.Conv2D(64, 3, strides=2, padding=\"same\", activation=\"relu\"),\n",
        "    layers.Flatten(),\n",
        "    layers.Dense(latent_dim)\n",
        "], name=\"ae_encoder\")\n",
        "\n",
        "decoder_ae = models.Sequential([\n",
        "    layers.Input(shape=(latent_dim,)),\n",
        "    layers.Dense(8*8*64, activation=\"relu\"),\n",
        "    layers.Reshape((8,8,64)),\n",
        "    layers.Conv2DTranspose(64, 3, strides=2, padding=\"same\", activation=\"relu\"),\n",
        "    layers.Conv2DTranspose(32, 3, strides=2, padding=\"same\", activation=\"relu\"),\n",
        "    layers.Conv2D(3, 3, padding=\"same\", activation=\"sigmoid\")\n",
        "], name=\"ae_decoder\")\n",
        "\n",
        "inp = layers.Input(shape=(32,32,3))\n",
        "out = decoder_ae(encoder_ae(inp))\n",
        "autoencoder = models.Model(inp, out)\n",
        "autoencoder.compile(optimizer=\"adam\", loss=\"mse\")\n",
        "autoencoder.fit(x_train, x_train, epochs=5, batch_size=256, validation_data=(x_test, x_test), verbose=1)\n"
      ],
      "metadata": {
        "colab": {
          "base_uri": "https://localhost:8080/"
        },
        "id": "RB1gyO_jc0-9",
        "outputId": "42edcd47-2460-4b8f-deb2-95602c5612db"
      },
      "execution_count": 7,
      "outputs": [
        {
          "output_type": "stream",
          "name": "stdout",
          "text": [
            "Epoch 1/5\n",
            "\u001b[1m32/32\u001b[0m \u001b[32m━━━━━━━━━━━━━━━━━━━━\u001b[0m\u001b[37m\u001b[0m \u001b[1m16s\u001b[0m 262ms/step - loss: 0.0629 - val_loss: 0.0430\n",
            "Epoch 2/5\n",
            "\u001b[1m32/32\u001b[0m \u001b[32m━━━━━━━━━━━━━━━━━━━━\u001b[0m\u001b[37m\u001b[0m \u001b[1m0s\u001b[0m 8ms/step - loss: 0.0375 - val_loss: 0.0265\n",
            "Epoch 3/5\n",
            "\u001b[1m32/32\u001b[0m \u001b[32m━━━━━━━━━━━━━━━━━━━━\u001b[0m\u001b[37m\u001b[0m \u001b[1m0s\u001b[0m 8ms/step - loss: 0.0242 - val_loss: 0.0216\n",
            "Epoch 4/5\n",
            "\u001b[1m32/32\u001b[0m \u001b[32m━━━━━━━━━━━━━━━━━━━━\u001b[0m\u001b[37m\u001b[0m \u001b[1m0s\u001b[0m 8ms/step - loss: 0.0206 - val_loss: 0.0189\n",
            "Epoch 5/5\n",
            "\u001b[1m32/32\u001b[0m \u001b[32m━━━━━━━━━━━━━━━━━━━━\u001b[0m\u001b[37m\u001b[0m \u001b[1m0s\u001b[0m 8ms/step - loss: 0.0183 - val_loss: 0.0174\n"
          ]
        },
        {
          "output_type": "execute_result",
          "data": {
            "text/plain": [
              "<keras.src.callbacks.history.History at 0x7ff0543af920>"
            ]
          },
          "metadata": {},
          "execution_count": 7
        }
      ]
    },
    {
      "cell_type": "code",
      "source": [
        "rep_ae_train = encoder_ae.predict(x_train, verbose=0)\n",
        "rep_ae_test  = encoder_ae.predict(x_test,  verbose=0)\n",
        "print(rep_ae_train.shape, rep_ae_test.shape)\n"
      ],
      "metadata": {
        "colab": {
          "base_uri": "https://localhost:8080/"
        },
        "id": "QaJYRgjHc_5l",
        "outputId": "de566b99-4d9e-43ad-d1ed-71b9bb9380d0"
      },
      "execution_count": 8,
      "outputs": [
        {
          "output_type": "stream",
          "name": "stdout",
          "text": [
            "(8000, 64) (2000, 64)\n"
          ]
        }
      ]
    },
    {
      "cell_type": "code",
      "source": [
        "clf_c = LogisticRegression(max_iter=2000).fit(rep_contrastive_train, y_train)\n",
        "acc_c  = accuracy_score(y_test, clf_c.predict(rep_contrastive_test))\n",
        "\n",
        "clf_a = LogisticRegression(max_iter=2000).fit(rep_ae_train, y_train)\n",
        "acc_a  = accuracy_score(y_test, clf_a.predict(rep_ae_test))\n",
        "\n",
        "print(\"Linear eval — Contrastive reps:\", acc_c)\n",
        "print(\"Linear eval — Autoencoder reps:\", acc_a)\n",
        "\n",
        "plt.bar([\"Contrastive\",\"Autoencoder\"], [acc_c, acc_a])\n",
        "plt.ylabel(\"Accuracy\")\n",
        "plt.title(\"Representation Quality (Linear Probe)\")\n",
        "plt.show()\n"
      ],
      "metadata": {
        "colab": {
          "base_uri": "https://localhost:8080/",
          "height": 487
        },
        "id": "LR0CcSuLdJN0",
        "outputId": "ae04dce6-e3bf-46ca-9c2f-55ee17d5f755"
      },
      "execution_count": 9,
      "outputs": [
        {
          "output_type": "stream",
          "name": "stdout",
          "text": [
            "Linear eval — Contrastive reps: 0.108\n",
            "Linear eval — Autoencoder reps: 0.3315\n"
          ]
        },
        {
          "output_type": "display_data",
          "data": {
            "text/plain": [
              "<Figure size 640x480 with 1 Axes>"
            ],
            "image/png": "[encoded data removed]"
          },
          "metadata": {}
        }
      ]
    },
    {
      "cell_type": "code",
      "source": [],
      "metadata": {
        "id": "MMQ-_zy3dMun"
      },
      "execution_count": null,
      "outputs": []
    }
  ]
}